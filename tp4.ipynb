{
 "cells": [
  {
   "cell_type": "code",
   "execution_count": null,
   "metadata": {},
   "outputs": [
    {
     "data": {
      "application/vnd.plotly.v1+json": {
       "config": {
        "plotlyServerURL": "https://plot.ly"
       },
       "data": [
        {
         "line": {
          "color": "orange"
         },
         "mode": "lines+markers",
         "name": "Température Moyenne",
         "type": "scatter",
         "x": [
          "2023-01",
          "2023-02",
          "2023-03",
          "2023-04",
          "2023-05",
          "2023-06",
          "2023-07",
          "2023-08",
          "2023-09",
          "2023-10",
          "2023-11",
          "2023-12"
         ],
         "y": [
          14.053333333333333,
          20.640625,
          23.695348837209302,
          24.282105263157895,
          20.378666666666668,
          14.431764705882353,
          5.852941176470588,
          -0.21609195402298847,
          -4.5680555555555555,
          -3.4978494623655916,
          -0.64,
          6.514705882352941
         ]
        },
        {
         "marker": {
          "color": "blue"
         },
         "name": "Précipitations Totales",
         "type": "bar",
         "x": [
          "2023-01",
          "2023-02",
          "2023-03",
          "2023-04",
          "2023-05",
          "2023-06",
          "2023-07",
          "2023-08",
          "2023-09",
          "2023-10",
          "2023-11",
          "2023-12"
         ],
         "y": [
          175,
          95,
          205,
          215,
          135,
          150,
          130,
          160,
          125,
          145,
          205,
          100
         ]
        }
       ],
       "layout": {
        "barmode": "group",
        "template": {
         "data": {
          "bar": [
           {
            "error_x": {
             "color": "#f2f5fa"
            },
            "error_y": {
             "color": "#f2f5fa"
            },
            "marker": {
             "line": {
              "color": "rgb(17,17,17)",
              "width": 0.5
             },
             "pattern": {
              "fillmode": "overlay",
              "size": 10,
              "solidity": 0.2
             }
            },
            "type": "bar"
           }
          ],
          "barpolar": [
           {
            "marker": {
             "line": {
              "color": "rgb(17,17,17)",
              "width": 0.5
             },
             "pattern": {
              "fillmode": "overlay",
              "size": 10,
              "solidity": 0.2
             }
            },
            "type": "barpolar"
           }
          ],
          "carpet": [
           {
            "aaxis": {
             "endlinecolor": "#A2B1C6",
             "gridcolor": "#506784",
             "linecolor": "#506784",
             "minorgridcolor": "#506784",
             "startlinecolor": "#A2B1C6"
            },
            "baxis": {
             "endlinecolor": "#A2B1C6",
             "gridcolor": "#506784",
             "linecolor": "#506784",
             "minorgridcolor": "#506784",
             "startlinecolor": "#A2B1C6"
            },
            "type": "carpet"
           }
          ],
          "choropleth": [
           {
            "colorbar": {
             "outlinewidth": 0,
             "ticks": ""
            },
            "type": "choropleth"
           }
          ],
          "contour": [
           {
            "colorbar": {
             "outlinewidth": 0,
             "ticks": ""
            },
            "colorscale": [
             [
              0,
              "#0d0887"
             ],
             [
              0.1111111111111111,
              "#46039f"
             ],
             [
              0.2222222222222222,
              "#7201a8"
             ],
             [
              0.3333333333333333,
              "#9c179e"
             ],
             [
              0.4444444444444444,
              "#bd3786"
             ],
             [
              0.5555555555555556,
              "#d8576b"
             ],
             [
              0.6666666666666666,
              "#ed7953"
             ],
             [
              0.7777777777777778,
              "#fb9f3a"
             ],
             [
              0.8888888888888888,
              "#fdca26"
             ],
             [
              1,
              "#f0f921"
             ]
            ],
            "type": "contour"
           }
          ],
          "contourcarpet": [
           {
            "colorbar": {
             "outlinewidth": 0,
             "ticks": ""
            },
            "type": "contourcarpet"
           }
          ],
          "heatmap": [
           {
            "colorbar": {
             "outlinewidth": 0,
             "ticks": ""
            },
            "colorscale": [
             [
              0,
              "#0d0887"
             ],
             [
              0.1111111111111111,
              "#46039f"
             ],
             [
              0.2222222222222222,
              "#7201a8"
             ],
             [
              0.3333333333333333,
              "#9c179e"
             ],
             [
              0.4444444444444444,
              "#bd3786"
             ],
             [
              0.5555555555555556,
              "#d8576b"
             ],
             [
              0.6666666666666666,
              "#ed7953"
             ],
             [
              0.7777777777777778,
              "#fb9f3a"
             ],
             [
              0.8888888888888888,
              "#fdca26"
             ],
             [
              1,
              "#f0f921"
             ]
            ],
            "type": "heatmap"
           }
          ],
          "heatmapgl": [
           {
            "colorbar": {
             "outlinewidth": 0,
             "ticks": ""
            },
            "colorscale": [
             [
              0,
              "#0d0887"
             ],
             [
              0.1111111111111111,
              "#46039f"
             ],
             [
              0.2222222222222222,
              "#7201a8"
             ],
             [
              0.3333333333333333,
              "#9c179e"
             ],
             [
              0.4444444444444444,
              "#bd3786"
             ],
             [
              0.5555555555555556,
              "#d8576b"
             ],
             [
              0.6666666666666666,
              "#ed7953"
             ],
             [
              0.7777777777777778,
              "#fb9f3a"
             ],
             [
              0.8888888888888888,
              "#fdca26"
             ],
             [
              1,
              "#f0f921"
             ]
            ],
            "type": "heatmapgl"
           }
          ],
          "histogram": [
           {
            "marker": {
             "pattern": {
              "fillmode": "overlay",
              "size": 10,
              "solidity": 0.2
             }
            },
            "type": "histogram"
           }
          ],
          "histogram2d": [
           {
            "colorbar": {
             "outlinewidth": 0,
             "ticks": ""
            },
            "colorscale": [
             [
              0,
              "#0d0887"
             ],
             [
              0.1111111111111111,
              "#46039f"
             ],
             [
              0.2222222222222222,
              "#7201a8"
             ],
             [
              0.3333333333333333,
              "#9c179e"
             ],
             [
              0.4444444444444444,
              "#bd3786"
             ],
             [
              0.5555555555555556,
              "#d8576b"
             ],
             [
              0.6666666666666666,
              "#ed7953"
             ],
             [
              0.7777777777777778,
              "#fb9f3a"
             ],
             [
              0.8888888888888888,
              "#fdca26"
             ],
             [
              1,
              "#f0f921"
             ]
            ],
            "type": "histogram2d"
           }
          ],
          "histogram2dcontour": [
           {
            "colorbar": {
             "outlinewidth": 0,
             "ticks": ""
            },
            "colorscale": [
             [
              0,
              "#0d0887"
             ],
             [
              0.1111111111111111,
              "#46039f"
             ],
             [
              0.2222222222222222,
              "#7201a8"
             ],
             [
              0.3333333333333333,
              "#9c179e"
             ],
             [
              0.4444444444444444,
              "#bd3786"
             ],
             [
              0.5555555555555556,
              "#d8576b"
             ],
             [
              0.6666666666666666,
              "#ed7953"
             ],
             [
              0.7777777777777778,
              "#fb9f3a"
             ],
             [
              0.8888888888888888,
              "#fdca26"
             ],
             [
              1,
              "#f0f921"
             ]
            ],
            "type": "histogram2dcontour"
           }
          ],
          "mesh3d": [
           {
            "colorbar": {
             "outlinewidth": 0,
             "ticks": ""
            },
            "type": "mesh3d"
           }
          ],
          "parcoords": [
           {
            "line": {
             "colorbar": {
              "outlinewidth": 0,
              "ticks": ""
             }
            },
            "type": "parcoords"
           }
          ],
          "pie": [
           {
            "automargin": true,
            "type": "pie"
           }
          ],
          "scatter": [
           {
            "marker": {
             "line": {
              "color": "#283442"
             }
            },
            "type": "scatter"
           }
          ],
          "scatter3d": [
           {
            "line": {
             "colorbar": {
              "outlinewidth": 0,
              "ticks": ""
             }
            },
            "marker": {
             "colorbar": {
              "outlinewidth": 0,
              "ticks": ""
             }
            },
            "type": "scatter3d"
           }
          ],
          "scattercarpet": [
           {
            "marker": {
             "colorbar": {
              "outlinewidth": 0,
              "ticks": ""
             }
            },
            "type": "scattercarpet"
           }
          ],
          "scattergeo": [
           {
            "marker": {
             "colorbar": {
              "outlinewidth": 0,
              "ticks": ""
             }
            },
            "type": "scattergeo"
           }
          ],
          "scattergl": [
           {
            "marker": {
             "line": {
              "color": "#283442"
             }
            },
            "type": "scattergl"
           }
          ],
          "scattermapbox": [
           {
            "marker": {
             "colorbar": {
              "outlinewidth": 0,
              "ticks": ""
             }
            },
            "type": "scattermapbox"
           }
          ],
          "scatterpolar": [
           {
            "marker": {
             "colorbar": {
              "outlinewidth": 0,
              "ticks": ""
             }
            },
            "type": "scatterpolar"
           }
          ],
          "scatterpolargl": [
           {
            "marker": {
             "colorbar": {
              "outlinewidth": 0,
              "ticks": ""
             }
            },
            "type": "scatterpolargl"
           }
          ],
          "scatterternary": [
           {
            "marker": {
             "colorbar": {
              "outlinewidth": 0,
              "ticks": ""
             }
            },
            "type": "scatterternary"
           }
          ],
          "surface": [
           {
            "colorbar": {
             "outlinewidth": 0,
             "ticks": ""
            },
            "colorscale": [
             [
              0,
              "#0d0887"
             ],
             [
              0.1111111111111111,
              "#46039f"
             ],
             [
              0.2222222222222222,
              "#7201a8"
             ],
             [
              0.3333333333333333,
              "#9c179e"
             ],
             [
              0.4444444444444444,
              "#bd3786"
             ],
             [
              0.5555555555555556,
              "#d8576b"
             ],
             [
              0.6666666666666666,
              "#ed7953"
             ],
             [
              0.7777777777777778,
              "#fb9f3a"
             ],
             [
              0.8888888888888888,
              "#fdca26"
             ],
             [
              1,
              "#f0f921"
             ]
            ],
            "type": "surface"
           }
          ],
          "table": [
           {
            "cells": {
             "fill": {
              "color": "#506784"
             },
             "line": {
              "color": "rgb(17,17,17)"
             }
            },
            "header": {
             "fill": {
              "color": "#2a3f5f"
             },
             "line": {
              "color": "rgb(17,17,17)"
             }
            },
            "type": "table"
           }
          ]
         },
         "layout": {
          "annotationdefaults": {
           "arrowcolor": "#f2f5fa",
           "arrowhead": 0,
           "arrowwidth": 1
          },
          "autotypenumbers": "strict",
          "coloraxis": {
           "colorbar": {
            "outlinewidth": 0,
            "ticks": ""
           }
          },
          "colorscale": {
           "diverging": [
            [
             0,
             "#8e0152"
            ],
            [
             0.1,
             "#c51b7d"
            ],
            [
             0.2,
             "#de77ae"
            ],
            [
             0.3,
             "#f1b6da"
            ],
            [
             0.4,
             "#fde0ef"
            ],
            [
             0.5,
             "#f7f7f7"
            ],
            [
             0.6,
             "#e6f5d0"
            ],
            [
             0.7,
             "#b8e186"
            ],
            [
             0.8,
             "#7fbc41"
            ],
            [
             0.9,
             "#4d9221"
            ],
            [
             1,
             "#276419"
            ]
           ],
           "sequential": [
            [
             0,
             "#0d0887"
            ],
            [
             0.1111111111111111,
             "#46039f"
            ],
            [
             0.2222222222222222,
             "#7201a8"
            ],
            [
             0.3333333333333333,
             "#9c179e"
            ],
            [
             0.4444444444444444,
             "#bd3786"
            ],
            [
             0.5555555555555556,
             "#d8576b"
            ],
            [
             0.6666666666666666,
             "#ed7953"
            ],
            [
             0.7777777777777778,
             "#fb9f3a"
            ],
            [
             0.8888888888888888,
             "#fdca26"
            ],
            [
             1,
             "#f0f921"
            ]
           ],
           "sequentialminus": [
            [
             0,
             "#0d0887"
            ],
            [
             0.1111111111111111,
             "#46039f"
            ],
            [
             0.2222222222222222,
             "#7201a8"
            ],
            [
             0.3333333333333333,
             "#9c179e"
            ],
            [
             0.4444444444444444,
             "#bd3786"
            ],
            [
             0.5555555555555556,
             "#d8576b"
            ],
            [
             0.6666666666666666,
             "#ed7953"
            ],
            [
             0.7777777777777778,
             "#fb9f3a"
            ],
            [
             0.8888888888888888,
             "#fdca26"
            ],
            [
             1,
             "#f0f921"
            ]
           ]
          },
          "colorway": [
           "#636efa",
           "#EF553B",
           "#00cc96",
           "#ab63fa",
           "#FFA15A",
           "#19d3f3",
           "#FF6692",
           "#B6E880",
           "#FF97FF",
           "#FECB52"
          ],
          "font": {
           "color": "#f2f5fa"
          },
          "geo": {
           "bgcolor": "rgb(17,17,17)",
           "lakecolor": "rgb(17,17,17)",
           "landcolor": "rgb(17,17,17)",
           "showlakes": true,
           "showland": true,
           "subunitcolor": "#506784"
          },
          "hoverlabel": {
           "align": "left"
          },
          "hovermode": "closest",
          "mapbox": {
           "style": "dark"
          },
          "paper_bgcolor": "rgb(17,17,17)",
          "plot_bgcolor": "rgb(17,17,17)",
          "polar": {
           "angularaxis": {
            "gridcolor": "#506784",
            "linecolor": "#506784",
            "ticks": ""
           },
           "bgcolor": "rgb(17,17,17)",
           "radialaxis": {
            "gridcolor": "#506784",
            "linecolor": "#506784",
            "ticks": ""
           }
          },
          "scene": {
           "xaxis": {
            "backgroundcolor": "rgb(17,17,17)",
            "gridcolor": "#506784",
            "gridwidth": 2,
            "linecolor": "#506784",
            "showbackground": true,
            "ticks": "",
            "zerolinecolor": "#C8D4E3"
           },
           "yaxis": {
            "backgroundcolor": "rgb(17,17,17)",
            "gridcolor": "#506784",
            "gridwidth": 2,
            "linecolor": "#506784",
            "showbackground": true,
            "ticks": "",
            "zerolinecolor": "#C8D4E3"
           },
           "zaxis": {
            "backgroundcolor": "rgb(17,17,17)",
            "gridcolor": "#506784",
            "gridwidth": 2,
            "linecolor": "#506784",
            "showbackground": true,
            "ticks": "",
            "zerolinecolor": "#C8D4E3"
           }
          },
          "shapedefaults": {
           "line": {
            "color": "#f2f5fa"
           }
          },
          "sliderdefaults": {
           "bgcolor": "#C8D4E3",
           "bordercolor": "rgb(17,17,17)",
           "borderwidth": 1,
           "tickwidth": 0
          },
          "ternary": {
           "aaxis": {
            "gridcolor": "#506784",
            "linecolor": "#506784",
            "ticks": ""
           },
           "baxis": {
            "gridcolor": "#506784",
            "linecolor": "#506784",
            "ticks": ""
           },
           "bgcolor": "rgb(17,17,17)",
           "caxis": {
            "gridcolor": "#506784",
            "linecolor": "#506784",
            "ticks": ""
           }
          },
          "title": {
           "x": 0.05
          },
          "updatemenudefaults": {
           "bgcolor": "#506784",
           "borderwidth": 0
          },
          "xaxis": {
           "automargin": true,
           "gridcolor": "#283442",
           "linecolor": "#506784",
           "ticks": "",
           "title": {
            "standoff": 15
           },
           "zerolinecolor": "#283442",
           "zerolinewidth": 2
          },
          "yaxis": {
           "automargin": true,
           "gridcolor": "#283442",
           "linecolor": "#506784",
           "ticks": "",
           "title": {
            "standoff": 15
           },
           "zerolinecolor": "#283442",
           "zerolinewidth": 2
          }
         }
        },
        "title": {
         "text": "Tableau de Bord Température et Précipitations"
        },
        "xaxis": {
         "title": {
          "text": "Mois"
         }
        },
        "yaxis": {
         "title": {
          "text": "Valeur"
         }
        }
       }
      }
     },
     "metadata": {},
     "output_type": "display_data"
    },
    {
     "name": "stdout",
     "output_type": "stream",
     "text": [
      "\n",
      "Mois avec des températures élevées et de fortes précipitations :\n",
      "Empty DataFrame\n",
      "Columns: [Year_Month, Temperature, Precipitation]\n",
      "Index: []\n",
      "\n",
      "Mois les plus secs (précipitations faibles) :\n",
      "  Year_Month  Temperature  Precipitation\n",
      "1    2023-02    20.640625             95\n",
      "\n",
      "Mois les plus froids (température faible) :\n",
      "  Year_Month  Temperature  Precipitation\n",
      "8    2023-09    -4.568056            125\n"
     ]
    }
   ],
   "source": [
    "#Etape 4\n",
    "import plotly.graph_objects as go\n",
    "\n",
    "data['Date'] = pd.to_datetime(data['Date'])\n",
    "data['Year_Month'] = data['Date'].dt.to_period('M')\n",
    "\n",
    "monthly_data = data.groupby('Year_Month').agg({'Temperature': 'mean', 'Precipitation': 'sum'}).reset_index()\n",
    "\n",
    "temperature_trace = go.Scatter(\n",
    "    x=monthly_data['Year_Month'].astype(str),\n",
    "    y=monthly_data['Temperature'],\n",
    "    mode='lines+markers',\n",
    "    name='Température Moyenne',\n",
    "    line=dict(color='orange')\n",
    ")\n",
    "precipitation_trace = go.Bar(\n",
    "    x=monthly_data['Year_Month'].astype(str),\n",
    "    y=monthly_data['Precipitation'],\n",
    "    name='Précipitations Totales',\n",
    "    marker=dict(color='blue')\n",
    ")\n",
    "\n",
    "\n",
    "layout = go.Layout(\n",
    "    title='Tableau de Bord Température et Précipitations',\n",
    "    xaxis_title='Mois',\n",
    "    yaxis_title='Valeur',\n",
    "    template='plotly_dark',\n",
    "    barmode='group'\n",
    ")\n",
    "\n",
    "\n",
    "fig = go.Figure(data=[temperature_trace, precipitation_trace], layout=layout)\n",
    "\n",
    "fig.show()\n",
    "\n",
    "# Répondre aux questions intermédiaires :\n",
    "\n",
    "# Question 1 : Quels mois présentent à la fois des températures élevées et de fortes précipitations ?\n",
    "threshold_temp = 30  # Température élevée (par exemple, plus de 30°C)\n",
    "threshold_precip = 0.3  # Forte précipitation (par exemple, plus de 0.3 mm)\n",
    "\n",
    "# Identifier les mois avec des températures élevées et des précipitations fortes\n",
    "high_temp_and_high_precip = monthly_data[(monthly_data['Temperature'] >= threshold_temp) & \n",
    "                                          (monthly_data['Precipitation'] >= threshold_precip)]\n",
    "\n",
    "print(\"\\nMois avec des températures élevées et de fortes précipitations :\")\n",
    "print(high_temp_and_high_precip)\n",
    "\n",
    "# Question 2 : Les mois les plus secs sont-ils aussi les plus froids ?\n",
    "# Identifier les mois les plus secs (précipitations faibles)\n",
    "dry_months = monthly_data[monthly_data['Precipitation'] == monthly_data['Precipitation'].min()]\n",
    "\n",
    "print(\"\\nMois les plus secs (précipitations faibles) :\")\n",
    "print(dry_months)\n",
    "\n",
    "# Identifier les mois les plus froids (température faible)\n",
    "cold_months = monthly_data[monthly_data['Temperature'] == monthly_data['Temperature'].min()]\n",
    "\n",
    "print(\"\\nMois les plus froids (température faible) :\")\n",
    "print(cold_months)"
   ]
  },
  {
   "cell_type": "code",
   "execution_count": null,
   "metadata": {},
   "outputs": [
    {
     "name": "stderr",
     "output_type": "stream",
     "text": [
      "/var/folders/pq/nt06f9v13f3_szjf6s_hw5p40000gn/T/ipykernel_87837/1469425299.py:29: UserWarning: Mismatched number of handles and labels: len(handles) = 1 len(labels) = 2\n",
      "  plt.legend(handles=[bar], labels=[\"Forte Précipitation\", \"Faible Précipitation\"], loc=\"upper right\")\n"
     ]
    },
    {
     "data": {
      "image/png": "[encoded data removed]",
      "text/plain": [
       "<Figure size 1000x600 with 1 Axes>"
      ]
     },
     "metadata": {},
     "output_type": "display_data"
    },
    {
     "name": "stdout",
     "output_type": "stream",
     "text": [
      "\n",
      "Mois avec les précipitations les plus élevées : Year_Month             2023-04\n",
      "Precipitation              215\n",
      "Precipitation_Level       High\n",
      "Name: 3, dtype: object\n"
     ]
    },
    {
     "data": {
      "image/png": "[encoded data removed]",
      "text/plain": [
       "<Figure size 800x600 with 1 Axes>"
      ]
     },
     "metadata": {},
     "output_type": "display_data"
    }
   ],
   "source": [
    "#Etape 3\n",
    "import numpy as np\n",
    "\n",
    "data['Date'] = pd.to_datetime(data['Date'])\n",
    "\n",
    "data['Year_Month'] = data['Date'].dt.to_period('M')\n",
    "\n",
    "s\n",
    "grouped_data = data.groupby('Year_Month')['Precipitation'].sum().reset_index()\n",
    "\n",
    "seuil = grouped_data['Precipitation'].median() \n",
    "\n",
    "# Ajouter une colonne 'High Precipitation' pour colorier les barres\n",
    "grouped_data['Precipitation_Level'] = np.where(grouped_data['Precipitation'] >= seuil, 'High', 'Low')\n",
    "\n",
    "\n",
    "plt.figure(figsize=(10, 6))\n",
    "bar = plt.bar(grouped_data['Year_Month'].astype(str), grouped_data['Precipitation'], color=grouped_data['Precipitation_Level'].map({'High': 'red', 'Low': 'blue'}))\n",
    "\n",
    "\n",
    "plt.title(\"Précipitations Totales par Mois\", fontsize=16)\n",
    "plt.xlabel(\"Mois\", fontsize=12)\n",
    "plt.ylabel(\"Précipitations Totales (mm)\", fontsize=12)\n",
    "plt.xticks(rotation=45)\n",
    "\n",
    "\n",
    "plt.legend(handles=[bar], labels=[\"Forte Précipitation\", \"Faible Précipitation\"], loc=\"upper right\")\n",
    "\n",
    "\n",
    "plt.tight_layout()\n",
    "plt.show()\n",
    "\n",
    "# Question 1 : Quels mois ont les précipitations les plus importantes ?\n",
    "mois_precip_max = grouped_data.loc[grouped_data['Precipitation'].idxmax()]\n",
    "print(\"\\nMois avec les précipitations les plus élevées :\", mois_precip_max)\n",
    "\n",
    "# Question 2 : Observez-vous une corrélation entre précipitations et température ?\n",
    "# Pour observer visuellement la corrélation, nous pouvons afficher un nuage de points.\n",
    "plt.figure(figsize=(8, 6))\n",
    "plt.scatter(data['Temperature'], data['Precipitation'], color='purple', alpha=0.6)\n",
    "plt.title(\"Corrélation entre Température et Précipitations\", fontsize=16)\n",
    "plt.xlabel(\"Température (°C)\", fontsize=12)\n",
    "plt.ylabel(\"Précipitations (mm)\", fontsize=12)\n",
    "plt.show()"
   ]
  },
  {
   "cell_type": "code",
   "execution_count": null,
   "metadata": {},
   "outputs": [
    {
     "data": {
      "image/png": "[encoded data removed]",
      "text/plain": [
       "<Figure size 1000x600 with 1 Axes>"
      ]
     },
     "metadata": {},
     "output_type": "display_data"
    },
    {
     "name": "stdout",
     "output_type": "stream",
     "text": [
      "\n",
      "Mois avec la température la plus élevée : Year_Month         2023-04\n",
      "Temperature      24.282105\n",
      "Precipitation          215\n",
      "Humidity         69.763158\n",
      "Name: 3, dtype: object\n"
     ]
    }
   ],
   "source": [
    "#Etape 2\n",
    "import matplotlib.pyplot as plt\n",
    "\n",
    "plt.figure(figsize=(10, 6))\n",
    "plt.plot(grouped_data['Year_Month'].astype(str), grouped_data['Temperature'], marker='o', color='b', linestyle='-', linewidth=2)\n",
    "\n",
    "plt.title(\"Température Moyenne par Mois\", fontsize=16)\n",
    "plt.xlabel(\"Mois\", fontsize=12)\n",
    "plt.ylabel(\"Température Moyenne (°C)\", fontsize=12)\n",
    "plt.xticks(rotation=45)\n",
    "plt.grid(True)\n",
    "\n",
    "\n",
    "plt.tight_layout()\n",
    "plt.show()\n",
    "\n",
    "# Question 1 : Pendant quels mois la température est-elle la plus élevée ?\n",
    "mois_temp_max = grouped_data.loc[grouped_data['Temperature'].idxmax()]\n",
    "print(\"\\nMois avec la température la plus élevée :\", mois_temp_max)"
   ]
  },
  {
   "cell_type": "code",
   "execution_count": null,
   "metadata": {},
   "outputs": [
    {
     "name": "stdout",
     "output_type": "stream",
     "text": [
      "   Year_Month  Temperature  Precipitation   Humidity\n",
      "0     2023-01    14.053333            175  55.294286\n",
      "1     2023-02    20.640625             95  64.035938\n",
      "2     2023-03    23.695349            205  69.829070\n",
      "3     2023-04    24.282105            215  69.763158\n",
      "4     2023-05    20.378667            135  66.606667\n",
      "5     2023-06    14.431765            150  55.181176\n",
      "6     2023-07     5.852941            130  44.412941\n",
      "7     2023-08    -0.216092            160  36.750575\n",
      "8     2023-09    -4.568056            125  33.256944\n",
      "9     2023-10    -3.497849            145  34.561290\n",
      "10    2023-11    -0.640000            205  38.417647\n",
      "11    2023-12     6.514706            100  45.213235\n",
      "\n",
      "Mois avec les précipitations les plus élevées : Year_Month         2023-04\n",
      "Temperature      24.282105\n",
      "Precipitation          215\n",
      "Humidity         69.763158\n",
      "Name: 3, dtype: object\n",
      "\n",
      "Mois avec l'humidité la plus élevée : Year_Month         2023-03\n",
      "Temperature      23.695349\n",
      "Precipitation          205\n",
      "Humidity          69.82907\n",
      "Name: 2, dtype: object\n",
      "Mois avec l'humidité la plus faible : Year_Month         2023-09\n",
      "Temperature      -4.568056\n",
      "Precipitation          125\n",
      "Humidity         33.256944\n",
      "Name: 8, dtype: object\n"
     ]
    }
   ],
   "source": [
    "#Etape 1\n",
    "import pandas as pd\n",
    "data = pd.read_csv(\"data.csv\")\n",
    "data['Date'] = pd.to_datetime(data['Date'])\n",
    "\n",
    "data['Year_Month'] = data['Date'].dt.to_period('M')\n",
    "\n",
    "\n",
    "grouped_data = data.groupby('Year_Month').agg({\n",
    "    'Temperature': 'mean',\n",
    "    'Precipitation': 'sum',\n",
    "    'Humidity': 'mean'\n",
    "}).reset_index()\n",
    "\n",
    "\n",
    "print(grouped_data)\n",
    "\n",
    "# Question 1 : Quels sont les mois avec les précipitations les plus élevées ?\n",
    "mois_precipitations_max = grouped_data.loc[grouped_data['Precipitation'].idxmax()]\n",
    "print(\"\\nMois avec les précipitations les plus élevées :\", mois_precipitations_max)\n",
    "\n",
    "# Question 2 : Y a-t-il une différence notable entre les mois en termes d'humidité ?\n",
    "mois_max_humidite = grouped_data.loc[grouped_data['Humidity'].idxmax()]\n",
    "mois_min_humidite = grouped_data.loc[grouped_data['Humidity'].idxmin()]\n",
    "\n",
    "print(\"\\nMois avec l'humidité la plus élevée :\", mois_max_humidite)\n",
    "print(\"Mois avec l'humidité la plus faible :\", mois_min_humidite)"
   ]
  }
 ],
 "metadata": {
  "kernelspec": {
   "display_name": "env",
   "language": "python",
   "name": "python3"
  },
  "language_info": {
   "codemirror_mode": {
    "name": "ipython",
    "version": 3
   },
   "file_extension": ".py",
   "mimetype": "text/x-python",
   "name": "python",
   "nbconvert_exporter": "python",
   "pygments_lexer": "ipython3",
   "version": "3.11.4"
  }
 },
 "nbformat": 4,
 "nbformat_minor": 2
}
