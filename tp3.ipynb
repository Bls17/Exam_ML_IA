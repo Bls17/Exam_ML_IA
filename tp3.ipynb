{
 "cells": [
  {
   "cell_type": "code",
   "execution_count": 18,
   "metadata": {},
   "outputs": [
    {
     "name": "stdout",
     "output_type": "stream",
     "text": [
      "Root Mean Squared Error (RMSE): 0.5862068965517224\n"
     ]
    }
   ],
   "source": [
    "#Etape 4\n",
    "import numpy as np\n",
    "from sklearn.metrics import mean_squared_error\n",
    "\n",
    "# Calculer le MSE\n",
    "mse = mean_squared_error(y_test, y_pred)\n",
    "\n",
    "# Calculer le RMSE manuellement\n",
    "rmse = np.sqrt(mse)\n",
    "print(\"Root Mean Squared Error (RMSE):\", rmse)\n"
   ]
  },
  {
   "cell_type": "code",
   "execution_count": 12,
   "metadata": {},
   "outputs": [
    {
     "name": "stdout",
     "output_type": "stream",
     "text": [
      "Mean Squared Error (MSE): 0.3436385255648018\n",
      "Coefficient of Determination (R²): nan\n",
      "Coefficients: [ 3.92195289 -0.28885743]\n",
      "Intercept: 20.5\n"
     ]
    },
    {
     "name": "stderr",
     "output_type": "stream",
     "text": [
      "/Users/badaradiallo/Desktop/COURS B3/Machine learning IA/env/lib/python3.11/site-packages/sklearn/metrics/_regression.py:1266: UndefinedMetricWarning: R^2 score is not well-defined with less than two samples.\n",
      "  warnings.warn(msg, UndefinedMetricWarning)\n"
     ]
    }
   ],
   "source": [
    "#Etape3\n",
    "from sklearn.linear_model import LinearRegression\n",
    "from sklearn.metrics import mean_squared_error, r2_score\n",
    "\n",
    "model = LinearRegression()\n",
    "model.fit(X_train_scaled, y_train)\n",
    "\n",
    "# Prédictions\n",
    "y_pred = model.predict(X_test_scaled)\n",
    "\n",
    "# Évaluer le modèle\n",
    "mse = mean_squared_error(y_test, y_pred)\n",
    "r2 = r2_score(y_test, y_pred)\n",
    "\n",
    "print(\"Mean Squared Error (MSE):\", mse)\n",
    "print(\"Coefficient of Determination (R²):\", r2)\n",
    "\n",
    "# Coefficients du modèle\n",
    "print(\"Coefficients:\", model.coef_)\n",
    "print(\"Intercept:\", model.intercept_)"
   ]
  },
  {
   "cell_type": "code",
   "execution_count": 10,
   "metadata": {},
   "outputs": [
    {
     "name": "stdout",
     "output_type": "stream",
     "text": [
      "Features normalisées - Entraînement :\n",
      "[[ 1.18321596  1.2385301 ]\n",
      " [-0.16903085 -0.31336304]\n",
      " [-1.52127766 -1.44743879]\n",
      " [ 0.50709255  0.52227173]]\n",
      "\n",
      "Features normalisées - Test :\n",
      "[[-0.84515425 -0.79086862]]\n"
     ]
    }
   ],
   "source": [
    "#Etape2\n",
    "from sklearn.preprocessing import StandardScaler\n",
    "# Initialiser le scaler\n",
    "scaler = StandardScaler()\n",
    "\n",
    "# Ajuster sur le jeu d'entraînement et transformer\n",
    "X_train_scaled = scaler.fit_transform(X_train)\n",
    "\n",
    "# Transformer le jeu de test\n",
    "X_test_scaled = scaler.transform(X_test)\n",
    "\n",
    "# Afficher les résultats\n",
    "print(\"Features normalisées - Entraînement :\")\n",
    "print(X_train_scaled)\n",
    "print(\"\\nFeatures normalisées - Test :\")\n",
    "print(X_test_scaled)"
   ]
  },
  {
   "cell_type": "code",
   "execution_count": 4,
   "metadata": {},
   "outputs": [
    {
     "name": "stdout",
     "output_type": "stream",
     "text": [
      "Features - Entraînement (X_train):\n",
      "                    Date  Precipitation  Humidity   Latitude   Longitude  \\\n",
      "29   2023-01-08 20:00:00             10      59.9 -48.351485  116.639155   \n",
      "535  2023-07-11 07:00:00              0      50.4 -41.728614 -148.271605   \n",
      "695  2023-09-07 15:00:00              0      30.0 -34.836576   79.256686   \n",
      "557  2023-07-20 17:00:00              0      43.7   5.812538 -120.856736   \n",
      "836  2023-10-28 00:00:00              0      30.0  42.185822   -5.317036   \n",
      "..                   ...            ...       ...        ...         ...   \n",
      "106  2023-02-01 13:00:00              0      50.9 -50.779552    5.307190   \n",
      "270  2023-04-06 03:00:00              0      72.0  28.265490  -93.180523   \n",
      "860  2023-11-05 01:00:00              0      30.0  40.501094  143.058858   \n",
      "435  2023-06-04 06:00:00              0      46.9 -35.408540 -148.519259   \n",
      "102  2023-01-30 12:00:00              0      57.5 -38.782551 -157.033960   \n",
      "\n",
      "     Temperature_F  Is_Hot  Temp_Fahrenheit  \n",
      "29           50.90       0            50.90  \n",
      "535          42.44       0            42.44  \n",
      "695          22.28       0            22.28  \n",
      "557          36.50       0            36.50  \n",
      "836          21.92       0            21.92  \n",
      "..             ...     ...              ...  \n",
      "106          61.34       0            61.34  \n",
      "270          79.70       1            79.70  \n",
      "860          26.24       0            26.24  \n",
      "435          65.66       0            65.66  \n",
      "102          60.44       0            60.44  \n",
      "\n",
      "[800 rows x 8 columns]\n",
      "\n",
      "Cible - Entraînement (y_train):\n",
      "29     10.5\n",
      "535     5.8\n",
      "695    -5.4\n",
      "557     2.5\n",
      "836    -5.6\n",
      "       ... \n",
      "106    16.3\n",
      "270    26.5\n",
      "860    -3.2\n",
      "435    18.7\n",
      "102    15.8\n",
      "Name: Temperature, Length: 800, dtype: float64\n",
      "\n",
      "Features - Test (X_test):\n",
      "                    Date  Precipitation  Humidity   Latitude   Longitude  \\\n",
      "521  2023-07-05 23:00:00              0      37.4 -16.605341 -164.483961   \n",
      "737  2023-09-24 01:00:00              0      30.0 -12.365693 -177.823064   \n",
      "740  2023-09-25 11:00:00              0      30.0  28.696133   81.947210   \n",
      "660  2023-08-24 20:00:00             20      30.0  21.451092 -106.271133   \n",
      "411  2023-05-25 17:00:00              0      68.1 -29.144806  -60.217388   \n",
      "..                   ...            ...       ...        ...         ...   \n",
      "408  2023-05-23 11:00:00              0      68.8 -27.884926  -21.360642   \n",
      "332  2023-04-24 03:00:00             10      68.7  74.710932 -135.630915   \n",
      "208  2023-03-12 00:00:00              0      88.3  73.267553   67.404364   \n",
      "613  2023-08-07 14:00:00              0      39.3  74.955698  -56.545321   \n",
      "78   2023-01-21 17:00:00              0      74.1  68.046032   53.387110   \n",
      "\n",
      "     Temperature_F  Is_Hot  Temp_Fahrenheit  \n",
      "521          45.14       0            45.14  \n",
      "737          26.96       0            26.96  \n",
      "740          15.62       0            15.62  \n",
      "660          29.66       0            29.66  \n",
      "411          59.36       0            59.36  \n",
      "..             ...     ...              ...  \n",
      "408          60.62       0            60.62  \n",
      "332          76.10       0            76.10  \n",
      "208          77.72       1            77.72  \n",
      "613          35.78       0            35.78  \n",
      "78           56.12       0            56.12  \n",
      "\n",
      "[200 rows x 8 columns]\n",
      "\n",
      "Cible - Test (y_test):\n",
      "521     7.3\n",
      "737    -2.8\n",
      "740    -9.1\n",
      "660    -1.3\n",
      "411    15.2\n",
      "       ... \n",
      "408    15.9\n",
      "332    24.5\n",
      "208    25.4\n",
      "613     2.1\n",
      "78     13.4\n",
      "Name: Temperature, Length: 200, dtype: float64\n"
     ]
    }
   ],
   "source": [
    "#Etape1\n",
    "import pandas as pd \n",
    "from sklearn.model_selection import train_test_split\n",
    "data = pd.read_csv(\"data.csv\")\n",
    "X = data.drop(columns=[\"Temperature\"])  # Toutes les colonnes sauf \"Temperature\"\n",
    "y = data[\"Temperature\"]  # Colonne cible\n",
    "\n",
    "# Diviser en jeu d'entraînement et de test\n",
    "X_train, X_test, y_train, y_test = train_test_split(X, y, test_size=0.2, random_state=42)\n",
    "\n",
    "# Afficher les résultats\n",
    "print(\"Features - Entraînement (X_train):\")\n",
    "print(X_train)\n",
    "print(\"\\nCible - Entraînement (y_train):\")\n",
    "print(y_train)\n",
    "print(\"\\nFeatures - Test (X_test):\")\n",
    "print(X_test)\n",
    "print(\"\\nCible - Test (y_test):\")\n",
    "print(y_test)\n"
   ]
  }
 ],
 "metadata": {
  "kernelspec": {
   "display_name": "env",
   "language": "python",
   "name": "python3"
  },
  "language_info": {
   "codemirror_mode": {
    "name": "ipython",
    "version": 3
   },
   "file_extension": ".py",
   "mimetype": "text/x-python",
   "name": "python",
   "nbconvert_exporter": "python",
   "pygments_lexer": "ipython3",
   "version": "3.11.4"
  }
 },
 "nbformat": 4,
 "nbformat_minor": 2
}
